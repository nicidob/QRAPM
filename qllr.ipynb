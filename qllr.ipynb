{
 "cells": [
  {
   "cell_type": "code",
   "execution_count": null,
   "metadata": {},
   "outputs": [],
   "source": [
    "import pickle\n",
    "import numpy as np\n",
    "import pandas as pd"
   ]
  },
  {
   "cell_type": "code",
   "execution_count": null,
   "metadata": {},
   "outputs": [],
   "source": [
    "with open('qllr.pkl','rb') as fp:\n",
    "    data1 = pickle.load(fp)\n",
    "with open('qllr2.pkl','rb') as fp:\n",
    "    data2 = pickle.load(fp)\n",
    "print(data1['matches'].shape)\n",
    "print(data2['matches'].shape)"
   ]
  },
  {
   "cell_type": "code",
   "execution_count": null,
   "metadata": {},
   "outputs": [],
   "source": [
    "data1['matches'].gametype_id.value_counts()"
   ]
  },
  {
   "cell_type": "code",
   "execution_count": null,
   "metadata": {},
   "outputs": [],
   "source": [
    "data = {}\n",
    "for k in set(list(data1.keys()) + list(data2.keys())):\n",
    "    if k in data1 and k in data2:\n",
    "        data[k] = pd.concat([data1[k],data2[k]])\n",
    "    elif k in data1:\n",
    "        data[k] = data1[k]\n",
    "    elif k in data2:\n",
    "        data[k] = data2[k]"
   ]
  },
  {
   "cell_type": "code",
   "execution_count": null,
   "metadata": {},
   "outputs": [],
   "source": [
    "#with open('qllr2.pkl','rb') as fp:\n",
    "#    data = pickle.load(fp)"
   ]
  },
  {
   "cell_type": "code",
   "execution_count": null,
   "metadata": {},
   "outputs": [],
   "source": [
    "data.keys()"
   ]
  },
  {
   "cell_type": "code",
   "execution_count": null,
   "metadata": {},
   "outputs": [],
   "source": [
    "player_names = {}\n",
    "for row in data['players'][['steam_id','name']].itertuples():\n",
    "    player_names[row[1]] = row[2]"
   ]
  },
  {
   "cell_type": "code",
   "execution_count": null,
   "metadata": {},
   "outputs": [],
   "source": [
    "import time\n",
    "\n",
    "\n",
    "df = data['matches']\n",
    "#df = df[df.timestamp > time.time() - 400*24*60*60] # only do the last year\n",
    "df = df[df.gametype_id == 3] # 2 is ctf, 3 is tdm\n",
    "df_filt = df[['match_id','team1_score','team2_score','duration']]\n",
    "match_scores = {}\n",
    "match_scales = {}\n",
    "min_max = [100,700]\n",
    "scale_mm = [0.7,1.3]\n",
    "\n",
    "#min_max = [-1,30]\n",
    "#scale_mm = [0.5,2.0]\n",
    "\n",
    "for row in df_filt.itertuples():\n",
    "    # have all games be the same length\n",
    "    scale = 1200/max(row[4],1)\n",
    "\n",
    "    # drop games too short or too long\n",
    "    if scale > scale_mm[1] or scale < scale_mm[0]:\n",
    "        continue\n",
    "        \n",
    "    #scale = 1\n",
    "    if scale*row[2] > min_max[1] or scale*row[3] > min_max[1]:\n",
    "        continue\n",
    "    if row[2] < min_max[0] or row[3] < min_max[0]:\n",
    "        continue\n",
    "    match_scores[row[1]] = (scale*row[2],scale*row[3])\n",
    "    match_scales[row[1]] = scale\n"
   ]
  },
  {
   "cell_type": "code",
   "execution_count": null,
   "metadata": {},
   "outputs": [],
   "source": [
    "#df = data['matches']\n",
    "#df = df[df.timestamp > time.time() - 365*24*60*60] \n",
    "#df.gametype_id.value_counts(), data['gametypes']\n",
    "# 15,000 ca games\n",
    "# 10,372 tdm games\n",
    "# 8,506 ctf games"
   ]
  },
  {
   "cell_type": "code",
   "execution_count": null,
   "metadata": {},
   "outputs": [],
   "source": [
    "from collections import defaultdict\n",
    "match_players = defaultdict(lambda: defaultdict(list))\n",
    "match_times = defaultdict(lambda: 99999999)\n",
    "df = data['scoreboards']\n",
    "for row in df[['match_id','steam_id','team','alive_time']].itertuples():\n",
    "    match_players[row[1]][row[3]].append(row[2])\n",
    "    match_times[row[1]] = min(row[4] * match_scales.get(row[1],1),match_times[row[1]])"
   ]
  },
  {
   "cell_type": "code",
   "execution_count": null,
   "metadata": {},
   "outputs": [],
   "source": [
    "valid_players = set()\n",
    "valid_matches = set()\n",
    "\n",
    "tm = []\n",
    "\n",
    "for m,teams in match_players.items():\n",
    "    N1 = len(teams[1])\n",
    "    N2 = len(teams[2])\n",
    "    # only want 4v4\n",
    "    if N1 !=4 or N2 != 4:\n",
    "        continue\n",
    "    if m not in match_scores:\n",
    "        continue\n",
    "    if match_times[m] < 1200*0.98:\n",
    "        continue\n",
    "    valid_matches.add(m)\n",
    "    for p in teams[1]:\n",
    "        valid_players.add(p)\n",
    "    for p in teams[2]:\n",
    "        valid_players.add(p)"
   ]
  },
  {
   "cell_type": "code",
   "execution_count": null,
   "metadata": {},
   "outputs": [],
   "source": [
    "NRows,NCols = len(valid_matches), len(valid_players)\n",
    "NRows,NCols, (NRows*NCols*4)/1e6"
   ]
  },
  {
   "cell_type": "code",
   "execution_count": null,
   "metadata": {},
   "outputs": [],
   "source": [
    "vMatches = sorted(list(valid_matches))\n",
    "vPlayers = sorted(list(valid_players))\n",
    "\n",
    "player_ids =  {k:i for i,k in enumerate(vPlayers)}\n",
    "match_ids = {k:i for i,k in enumerate(vMatches)}"
   ]
  },
  {
   "cell_type": "code",
   "execution_count": null,
   "metadata": {},
   "outputs": [],
   "source": [
    "from scipy.sparse import dok_matrix, csr_matrix\n",
    "S = dok_matrix((NRows,NCols), dtype=np.float32)\n",
    "y = np.zeros(NRows,dtype=np.float32)\n",
    "yBin = np.zeros(NRows,dtype=np.float32)\n",
    "match_totals = []\n",
    "match_timestamps = []\n",
    "for i,m in enumerate(vMatches):\n",
    "    s = match_scores[m]\n",
    "    diff = s[0] - s[1]\n",
    "    tot = s[0] + s[1]\n",
    "    match_totals.append(tot)\n",
    "\n",
    "    # could use diff\n",
    "    # but diff/tot probably scales better across maps\n",
    "    # could use  1 if diff/tot > 0 else -1\n",
    "    y[i] = diff/tot  #diff/tot\n",
    "    yBin[i] = 1 if diff/tot > 0 else 0 #diff/tot\n",
    "    for p in match_players[m][1]:\n",
    "        S[i,player_ids[p]] = 1\n",
    "    for p in match_players[m][2]:\n",
    "        S[i,player_ids[p]] = -1\n",
    "Sf = csr_matrix(S)\n",
    "Sfs = np.array(abs(Sf).sum(0)).ravel()\n",
    "mMean = np.array(match_totals).mean()"
   ]
  },
  {
   "cell_type": "code",
   "execution_count": null,
   "metadata": {},
   "outputs": [],
   "source": [
    "S.shape,Sf.shape,y.shape,Sfs.shape"
   ]
  },
  {
   "cell_type": "code",
   "execution_count": null,
   "metadata": {},
   "outputs": [],
   "source": [
    "import sklearn.linear_model as lm"
   ]
  },
  {
   "cell_type": "code",
   "execution_count": null,
   "metadata": {},
   "outputs": [],
   "source": [
    "# keep track of what's \"best\" by CV\n",
    "from sklearn.feature_selection import f_regression\n",
    "\n",
    "if False:\n",
    "    y = yBin\n",
    "    clf = lm.LogisticRegressionCV(Cs=2,fit_intercept=False,cv=10)\n",
    "    clf.fit(Sf,y)\n",
    "    print(clf.C_)\n",
    "\n",
    "    clf = lm.LogisticRegression(C=1/1.66,fit_intercept=False,max_iter=750) # 2.98 for full. 1.66 for last year. typical 4 mul\n",
    "    clf.fit(Sf,y)\n",
    "    yhat = clf.predict_proba(Sf)[:,1]#clf.predict(Sf)\n",
    "    coef = clf.coef_.ravel()\n",
    "\n",
    "else:\n",
    "    clf = lm.RidgeCV(alphas=np.logspace(-3,2,3),fit_intercept=False,cv=10)\n",
    "    clf.fit(Sf,y)\n",
    "    print(clf.alpha_)\n",
    "\n",
    "    clf = lm.Ridge(alpha=4*2.79,fit_intercept=False) # 2.98 for full. 1.66 for last year. typical 4 mul\n",
    "    clf.fit(Sf,y)\n",
    "    yhat = clf.predict(Sf)\n",
    "    coef = clf.coef_.ravel() *mMean\n",
    "\n",
    "print(clf.score(Sf,y))"
   ]
  },
  {
   "cell_type": "code",
   "execution_count": null,
   "metadata": {},
   "outputs": [],
   "source": [
    "import matplotlib.pyplot as plt\n",
    "plt.scatter(y+np.random.randn(len(y))*0.05,yhat,alpha=0.1)"
   ]
  },
  {
   "cell_type": "code",
   "execution_count": null,
   "metadata": {},
   "outputs": [],
   "source": [
    "residuals = y - yhat\n",
    "residual_sum_of_squares = residuals.T @ residuals\n",
    "sigma_squared_hat = residual_sum_of_squares / (Sf.shape[0] - Sf.shape[1])\n",
    "var_beta_hat = np.linalg.pinv((Sf.T @ Sf).toarray()) * sigma_squared_hat\n",
    "standard_error = np.sqrt(np.diag(var_beta_hat))\n",
    "print(mMean*standard_error.mean())\n",
    "coef.std()"
   ]
  },
  {
   "cell_type": "code",
   "execution_count": null,
   "metadata": {
    "scrolled": true
   },
   "outputs": [],
   "source": [
    "printer = []\n",
    "print('   alias   \\taNet\\tSE\\tmatches')\n",
    "for i,c in enumerate(np.argsort(coef)[::-1]):\n",
    "    printer.append([vPlayers[c],coef[c] ,mMean*standard_error[c],Sfs[c],player_names[vPlayers[c]]])\n",
    "    print('{:3d},{:10s}\\t{:.2f}\\t{:.2f}\\t{:.0f}'.format(i+1,player_names[vPlayers[c]][:10],coef[c] ,standard_error[c],Sfs[c]))#,vPlayers[c]))\n",
    "player_names[76561198122384360 ]"
   ]
  },
  {
   "cell_type": "code",
   "execution_count": null,
   "metadata": {},
   "outputs": [],
   "source": [
    "tmp = pd.DataFrame(printer,columns=['steam_id','aNet','SE','games','alias']).round(2)\n",
    "#tmp.to_csv('tdm_total_4cv.tsv',index=False,sep='\\t')\n",
    "tmp['LB'] = tmp.aNet -2 * tmp.SE\n",
    "tmp = tmp.sort_values('LB',0,False)\n",
    "tmp[['alias','LB']].round(2).to_csv('tmp.csv',index=False)"
   ]
  },
  {
   "cell_type": "code",
   "execution_count": null,
   "metadata": {},
   "outputs": [],
   "source": [
    "print('   alias   \\taNet\\tSE\\tmatches')\n",
    "mul_se = -2\n",
    "for i,c in enumerate(np.argsort(coef+ mul_se*standard_error)[::-1]):\n",
    "    print('{:3d},{:10s}\\t{:.2f}\\t{:.2f}\\t{:.0f}'.format(i+1,player_names[vPlayers[c]][:10], (coef[c]+mul_se*standard_error[c]) ,mMean*standard_error[c],Sfs[c]))#,vPlayers[c]))\n",
    "    "
   ]
  },
  {
   "cell_type": "code",
   "execution_count": null,
   "metadata": {},
   "outputs": [],
   "source": [
    "import matplotlib.pyplot as plt\n",
    "plt.style.use('fivethirtyeight')\n",
    "plt.style.use('seaborn-white')\n",
    "plt.style.use('fivethirtyeight')\n",
    "plt.style.use('seaborn-white')\n",
    "plt.scatter(y,yhat,alpha=0.1)"
   ]
  },
  {
   "cell_type": "code",
   "execution_count": null,
   "metadata": {},
   "outputs": [],
   "source": [
    "_ = plt.hist(y,20,alpha=0.5,density=True,label='true')\n",
    "_ = plt.hist(yhat*4,40,alpha=0.5,density=True,label='estimated')\n",
    "plt.xlabel('margin of victory (% of total points)')\n",
    "plt.yticks([],[])\n",
    "plt.legend()\n",
    "plt.title('Game Results')"
   ]
  },
  {
   "cell_type": "code",
   "execution_count": null,
   "metadata": {},
   "outputs": [],
   "source": [
    "#plt.hist([match_totals[match_ids[m]] for m in df_filt.match_id])\n",
    "80/mMean"
   ]
  },
  {
   "cell_type": "code",
   "execution_count": null,
   "metadata": {},
   "outputs": [],
   "source": [
    "fix_weap = {row[1]:row[3] for row in data['weapons'].itertuples()}\n",
    "fix_medals = {row[1]:row[3] for row in data['medals'].itertuples()}\n",
    "\n",
    "\n",
    "df = data['scoreboards']\n",
    "df = df[df.match_id.isin(valid_matches)]\n",
    "match_pace = np.array([match_totals[match_ids[m]] for m in df.match_id])/mMean\n",
    "df_filt = df[['match_id','steam_id','alive_time','damage_dealt','damage_taken','frags','deaths','score']].copy()\n",
    "wt =  1 / match_pace\n",
    "for col in ['damage_dealt','damage_taken','frags','deaths']:\n",
    "    df_filt[col] = df_filt[col].astype(float) * wt\n",
    "df_filt['net'] = df_filt['score']-df_filt['deaths']\n",
    "df_filt['netDmg'] = df_filt['damage_dealt']-df_filt['damage_taken']\n",
    "\n",
    "df_scoreR = df_filt\n",
    "df_score = df_filt.groupby('steam_id').mean()\n",
    "df_scoreS = df_filt.groupby('steam_id').std()\n",
    "\n",
    "\n",
    "df = data['scoreboards_medals']\n",
    "df = df[df.match_id.isin(valid_matches)]\n",
    "player_medals = defaultdict(lambda: defaultdict(lambda: defaultdict(int)))\n",
    "for row in df.itertuples():\n",
    "    player_medals[row[4]][row[2]][row[3]] = row[1]\n",
    "player_medals_rows = []\n",
    "for p,medals in player_medals.items():\n",
    "    for m,res in medals.items():\n",
    "        t = res\n",
    "        wt = mMean/match_totals[match_ids[m]]\n",
    "        for k in t:\n",
    "            t[k] = t[k]*wt\n",
    "        #t['exc/rev'] = t.get(6,0)/t.get(16,1)\n",
    "        t['steam_id'] = p \n",
    "        t['match_id'] = m\n",
    "        player_medals_rows.append(t)\n",
    "df_medals = pd.DataFrame(player_medals_rows).fillna(0).groupby('steam_id').mean()\n",
    "df_medals.columns = [fix_medals.get(_,_) for _ in df_medals.columns]\n",
    "df_medalsS = pd.DataFrame(player_medals_rows).fillna(0).groupby('steam_id').std()\n",
    "df_medalsS.columns = [fix_medals.get(_,_) for _ in df_medalsS.columns]\n",
    "df_medalsR = pd.DataFrame(player_medals_rows).fillna(0)\n",
    "df_medalsR.columns = [fix_medals.get(_,_) for _ in df_medalsR.columns]\n",
    "\n",
    "df = data['scoreboards_weapons']\n",
    "df = df[df.match_id.isin(valid_matches)]\n",
    "\n",
    "player_weapons = defaultdict(lambda: defaultdict(lambda: defaultdict(int)))\n",
    "for row in df.itertuples():\n",
    "    player_weapons[row[5]][row[3]][row[7]] = {'frags':row[1],'hits':row[2],'shots':row[4]}\n",
    "player_weapons_rows = []\n",
    "for p,weapons in player_weapons.items():\n",
    "    for m,res in weapons.items():\n",
    "        t = res\n",
    "        res_dict = {}\n",
    "        wt = mMean/match_totals[match_ids[m]]\n",
    "        for w_id, w_stats in t.items():\n",
    "            res_dict.update({fix_weap[w_id] + '_' + k:v*wt for k,v in w_stats.items()})\n",
    "        res_dict['steam_id'] = p \n",
    "        res_dict['match_id'] = m\n",
    "        player_weapons_rows.append(res_dict)\n",
    "df_weapons = pd.DataFrame(player_weapons_rows).fillna(0).groupby('steam_id').mean()\n",
    "df_weaponsS = pd.DataFrame(player_weapons_rows).fillna(0).groupby('steam_id').std()\n",
    "df_weaponsR = pd.DataFrame(player_weapons_rows).fillna(0)\n"
   ]
  },
  {
   "cell_type": "code",
   "execution_count": null,
   "metadata": {},
   "outputs": [],
   "source": [
    "spm_tableR = pd.concat([df_scoreR.set_index(['steam_id','match_id']),df_medalsR.set_index(['steam_id','match_id']),df_weaponsR.set_index(['steam_id','match_id'])],1).drop(['alive_time'],1).fillna(0)\n",
    "spm_tableR = spm_tableR.loc[:, (spm_tableR != 0).any(axis=0)]\n",
    "\n",
    "spm_tableR = spm_tableR.reset_index()\n",
    "spm_tableR['PRED'] = spm_tableR['steam_id'].map(lambda x: coef[player_ids[x]] )\n"
   ]
  },
  {
   "cell_type": "code",
   "execution_count": null,
   "metadata": {},
   "outputs": [],
   "source": [
    "spm_table = pd.concat([df_score,df_medals,df_weapons],1).drop(['alive_time'],1).fillna(0)\n",
    "spm_table = spm_table.loc[:, (spm_table != 0).any(axis=0)]\n",
    "\n",
    "spm_tableS = pd.concat([df_scoreS,df_medalsS,df_weaponsS],1).drop(['alive_time'],1).fillna(0)\n",
    "spm_tableS = spm_tableS.loc[:, (spm_tableS != 0).any(axis=0)]"
   ]
  },
  {
   "cell_type": "code",
   "execution_count": null,
   "metadata": {},
   "outputs": [],
   "source": [
    "import sklearn\n",
    "import sklearn.linear_model as linear\n",
    "plt.figure(figsize=(4,4))\n",
    "lg_acc = spm_table['lg_hits']/(spm_table['lg_shots']+1)\n",
    "mg_acc = spm_table['mg_hits']/(spm_table['mg_shots']+1)\n",
    "\n",
    "acc_model = linear.LinearRegression()\n",
    "acc_model.fit(lg_acc[:,None],mg_acc,Sfs)\n",
    "acc_xs = [[0.1],[0.6]]\n",
    "acc_ys =  acc_model.predict(acc_xs)\n",
    "plt.scatter(lg_acc,mg_acc,s=np.sqrt(Sfs),alpha=0.8)\n",
    "\n",
    "plt.plot(acc_xs,acc_ys,lw=1,c='r',alpha=0.8,label='best fit')\n",
    "plt.grid(True)\n",
    "plt.xlabel('LG%')\n",
    "plt.ylabel('MG%')\n",
    "plt.plot([0,1],[0,1],c='k',ls='--',lw=1,label='1:1')\n",
    "plt.title(\"EU+RU QL TDM Pickups\\nPlayer averages\")\n",
    "plt.xlim(0.18,0.52)\n",
    "plt.ylim(0.18,0.52)\n",
    "plt.legend(frameon=True)\n",
    "#plt.tight_layout()\n",
    "plt.savefig('../nicidob.github.io/images/lg_mg.png',facecolor=(1,1,1),bbox_inches='tight')"
   ]
  },
  {
   "cell_type": "code",
   "execution_count": null,
   "metadata": {},
   "outputs": [],
   "source": [
    "acc_model.coef_,acc_model.intercept_"
   ]
  },
  {
   "cell_type": "code",
   "execution_count": null,
   "metadata": {},
   "outputs": [],
   "source": [
    "import sklearn\n",
    "import sklearn.linear_model as linear\n",
    "print(sklearn.__version__)\n",
    "#col_f = ['damage_dealt','frags','lg_frags','mg_shots','rl_shots','deaths']\n",
    "#col_f = ['damage_dealt','damage_taken','frags','deaths']\n",
    "col_f = spm_table.columns\n",
    "#col_f = ['score','excellent', 'damage_dealt', 'mg_frags', 'deaths', 'lg_hits', 'rg_hits', 'revenge']\n",
    "#col_f = ['score','damage_dealt','deaths', 'damage_taken']\n",
    "\n",
    "Xs = (spm_table-spm_table.mean(0))/spm_table.std(0)\n",
    "Xs = Xs[col_f]\n",
    "\n",
    "spm_clf2 = linear.ElasticNetCV(cv=3,alphas=np.logspace(-3,2,100),l1_ratio=np.linspace(1e-6,1-1e-6,20),fit_intercept=False)\n",
    "#spm_clf2 = linear.ElasticNet(alpha=5e-3,l1_ratio=0.5,fit_intercept=False)\n",
    "\n",
    "spm_clf2.fit(Xs,coef,Sfs)\n",
    "print(spm_clf2.score(Xs,coef),spm_clf2.alpha_,spm_clf2.l1_ratio_)\n",
    "MUL = coef.std()/spm_clf2.predict(Xs).std()\n",
    "\n"
   ]
  },
  {
   "cell_type": "code",
   "execution_count": null,
   "metadata": {},
   "outputs": [],
   "source": [
    "varP = spm_clf2.predict(spm_tableS[col_f])\n",
    "varP = varP -varP.mean()\n",
    "varP.std()/mMean"
   ]
  },
  {
   "cell_type": "code",
   "execution_count": null,
   "metadata": {},
   "outputs": [],
   "source": [
    "spm_s = linear.Ridge(alpha=0.1,fit_intercept=False).fit(spm_table[col_f],coef)"
   ]
  },
  {
   "cell_type": "code",
   "execution_count": null,
   "metadata": {},
   "outputs": [],
   "source": [
    "print(list(spm_table.columns))"
   ]
  },
  {
   "cell_type": "code",
   "execution_count": null,
   "metadata": {},
   "outputs": [],
   "source": [
    "import xgboost as xgb\n",
    "spm_clf3 = xgb.XGBRegressor(max_depth=3)\n",
    "spm_clf3.fit(spm_table,coef,sample_weight=Sfs)\n",
    "for i in np.argsort(spm_clf3.feature_importances_)[::-1]:\n",
    "    print(list(spm_table.columns)[i],round(spm_clf3.feature_importances_[i],2))"
   ]
  },
  {
   "cell_type": "code",
   "execution_count": null,
   "metadata": {},
   "outputs": [],
   "source": [
    "#spm_clf2.coef_ > 1,spm_clf2.l1_ratio_,spm_clf2.intercept_"
   ]
  },
  {
   "cell_type": "code",
   "execution_count": null,
   "metadata": {},
   "outputs": [],
   "source": [
    "\n",
    "spm_str = []\n",
    "rounder = 2*1.4\n",
    "for k,v in zip(col_f,spm_clf2.coef_/(spm_table[col_f].std(0))):\n",
    "    if abs(rounder*v) == 0:\n",
    "        #print(k)\n",
    "        continue\n",
    "    if v*rounder < 1:\n",
    "        #s1 = \"( spm_table['{}'] / {} )\".format(k,round(1/(v*rounder),1))\n",
    "        s1 = \"( {} / {} )\".format(k,round(1/(v*rounder),1))\n",
    "    else:\n",
    "        #s1 = \"( spm_table['{}'] * {} )\".format(k,round(v*rounder,1))\n",
    "        s1 = \"( {} * {} )\".format(k,round(v*rounder,0))\n",
    "    spm_str.append(s1)\n",
    "spm_str = '(1/' + str(rounder/(mMean*MUL)) + ') * (' + ' + '.join(spm_str) + ')'\n",
    "print(spm_str)\n",
    "#(mMean*MUL)"
   ]
  },
  {
   "cell_type": "code",
   "execution_count": null,
   "metadata": {},
   "outputs": [],
   "source": [
    "t = []\n",
    "for i in np.argsort(abs(spm_clf2.coef_))[::-1]:\n",
    "    if spm_clf2.coef_[i] == 0:\n",
    "        continue\n",
    "    t.append(spm_table.columns[i])\n",
    "    print(round(spm_clf2.coef_[i],2),col_f[i])\n",
    "#print(t)"
   ]
  },
  {
   "cell_type": "code",
   "execution_count": null,
   "metadata": {},
   "outputs": [],
   "source": [
    "yH = spm_clf2.predict(Xs)#*mMean*MUL\n",
    "\n",
    "R = 5*(spm_table['frags'] - spm_table['deaths']) + 4*(spm_table['damage_dealt'] - spm_table['damage_taken'])/100 + 3*(spm_table['damage_dealt']/100)\n",
    "#R= (1/1.784330414377035) * (( spm_table['score'] / 3.2 ) + ( spm_table['excellent'] * 2.9 ) + ( spm_table['damage_dealt'] / 446.6 ) + ( spm_table['mg_frags'] / 1.3 ) + ( spm_table['deaths'] / -6.2 ) + ( spm_table['damage_taken'] / -1000.0 ) + ( spm_table['lg_hits'] / 67.5 ) + ( spm_table['rg_hits'] / 5.8 ) + ( spm_table['revenge'] / -1.0 ))\n",
    "#R = spm_table['frags']-spm_table['deaths']\n",
    "R = R-R.mean()\n",
    "R = yH.std()*R/R.std()\n",
    "plt.hist(R)\n"
   ]
  },
  {
   "cell_type": "code",
   "execution_count": null,
   "metadata": {},
   "outputs": [],
   "source": [
    "plt.figure(figsize=(4,4),dpi=120)\n",
    "plt.plot([-50,50],[-50,50],c='k',ls='--')\n",
    "\n",
    "yH = spm_clf2.predict(Xs)#*mMean*MUL\n",
    "# MUL*spm_res.predict()* mMean\n",
    "#R = spm_s.predict(spm_table[col_f])*mMean*MUL\n",
    "plt.scatter(coef,yH,s=10*np.log(Sfs),alpha=0.4,label='sNet')\n",
    "plt.scatter(coef,R,s=10*np.log(Sfs),alpha=0.3,label='QLStats')\n",
    "\n",
    "plt.grid(True)\n",
    "plt.xlim(-16,22)\n",
    "plt.ylim(-16,22)\n",
    "plt.xlabel('Regularized Adjusted Net')\n",
    "plt.ylabel('Statistical Net')\n",
    "plt.title('Average TDM stats')\n",
    "plt.legend(frameon=True)\n",
    "plt.tight_layout()\n",
    "#for p,x,y,s in zip(vPlayers,clf.coef_* mMean,spm_res.predict()* mMean,Sfs):\n",
    "#    if s>600:#player_names[p] in ['Xron','ash','agent','cwz']:\n",
    "#        plt.text(x,y,player_names[p][:10],ha='center',va='center')\n",
    "\n",
    "plt.gca().set_facecolor((1,1,1))\n",
    "#plt.savefig('../nicidob.github.io/images/tdm_snet.png',facecolor=(1,1,1),bbox_inches='tight')"
   ]
  },
  {
   "cell_type": "code",
   "execution_count": null,
   "metadata": {},
   "outputs": [],
   "source": [
    "dfr = pd.DataFrame([np.array(R),np.array(yH),coef]).T\n",
    "dfr.columns = ['QLStats','sNet','aNet']\n",
    "dfr.corr().round(3)"
   ]
  },
  {
   "cell_type": "code",
   "execution_count": null,
   "metadata": {},
   "outputs": [],
   "source": [
    "#spm_tableR[spm_tableR.steam_id == 76561198028376914].mean(),spm_tableR[spm_tableR.steam_id == 76561198028376914].std()"
   ]
  },
  {
   "cell_type": "code",
   "execution_count": null,
   "metadata": {},
   "outputs": [],
   "source": []
  },
  {
   "cell_type": "code",
   "execution_count": null,
   "metadata": {},
   "outputs": [],
   "source": [
    "game_tableX = spm_tableR[[_ for _ in spm_tableR.columns if _ not in ['PRED_SPM','PRED','match_id','steam_id']]]\n",
    "game_tableY = spm_tableR['PRED']"
   ]
  },
  {
   "cell_type": "code",
   "execution_count": null,
   "metadata": {},
   "outputs": [],
   "source": [
    "import xgboost as xgb\n",
    "spm_clf3 = xgb.XGBRegressor()\n",
    "spm_clf3.fit(game_tableX,game_tableY)\n",
    "for i in np.argsort(spm_clf3.feature_importances_)[::-1]:\n",
    "    print(list(spm_table.columns)[i],round(spm_clf3.feature_importances_[i],2))"
   ]
  },
  {
   "cell_type": "code",
   "execution_count": null,
   "metadata": {},
   "outputs": [],
   "source": [
    "col_f2 = game_tableX.columns\n",
    "#col_f2 = ['damage_dealt','score','lg_hits','rg_hits','impressive','net','netDmg']\n",
    "#col_f2 = ['damage_dealt', 'mg_hits', 'mg_shots', 'score', 'damage_taken', 'lg_hits', 'rl_shots', 'sg_hits', 'lg_shots', 'rg_hits', 'rg_shots', 'deaths',  'pg_hits', 'excellent']\n",
    "col_f2 = ['frags', 'score', 'mg_hits', 'lg_hits', 'damage_dealt', 'mg_shots','deaths']\n",
    "#Xs2 = (game_tableX-game_tableX.mean(0))/game_tableX.std(0)\n",
    "Xs2 = Xs2[col_f2]\n",
    "\n",
    "spm_clfG = linear.ElasticNetCV(max_iter=10000,cv=3,alphas=np.logspace(-3,2,100),l1_ratio=np.linspace(1e-6,1-1e-6,20),fit_intercept=True)\n",
    "#spm_clf2 = linear.ElasticNet(alpha=5e-3,l1_ratio=0.5,fit_intercept=False)\n",
    "\n",
    "spm_clfG.fit(Xs2,game_tableY)\n",
    "print(spm_clfG.score(Xs2,game_tableY),spm_clfG.alpha_,spm_clfG.l1_ratio_)\n"
   ]
  },
  {
   "cell_type": "code",
   "execution_count": null,
   "metadata": {},
   "outputs": [],
   "source": [
    "t = []\n",
    "for i in np.argsort(abs(spm_clfG.coef_))[::-1]:\n",
    "    if spm_clfG.coef_[i] == 0:\n",
    "        continue\n",
    "    t.append(col_f2[i])\n",
    "    print(round(spm_clfG.coef_[i],2),col_f2[i])\n",
    "print(t)"
   ]
  },
  {
   "cell_type": "code",
   "execution_count": null,
   "metadata": {},
   "outputs": [],
   "source": [
    "\n",
    "spm_str = []\n",
    "rounder = 4*0.3\n",
    "for k,v in zip(col_f2,spm_clfG.coef_/(game_tableX[col_f2].std(0))):\n",
    "    if abs(rounder*v) == 0:\n",
    "        #print(k)\n",
    "        continue\n",
    "    if v*rounder < 1:\n",
    "        #s1 = \"( spm_table['{}'] / {} )\".format(k,round(1/(v*rounder),1))\n",
    "        s1 = \"( {} / {} )\".format(k,round(1/(v*rounder),2))\n",
    "    else:\n",
    "        #s1 = \"( spm_table['{}'] * {} )\".format(k,round(v*rounder,1))\n",
    "        s1 = \"( {} * {} )\".format(k,round(v*rounder,2))\n",
    "    spm_str.append(s1)\n",
    "spm_str = '(' + ' + '.join(spm_str) + ')'\n",
    "print(spm_str)\n",
    "#(mMean*MUL)"
   ]
  },
  {
   "cell_type": "code",
   "execution_count": null,
   "metadata": {},
   "outputs": [],
   "source": [
    "import seaborn as sns\n",
    "color_map = sns.color_palette()"
   ]
  },
  {
   "cell_type": "code",
   "execution_count": null,
   "metadata": {},
   "outputs": [],
   "source": [
    "spmG_yhat = spm_clfG.predict(Xs2)"
   ]
  },
  {
   "cell_type": "code",
   "execution_count": null,
   "metadata": {},
   "outputs": [],
   "source": [
    "RR = 5*spm_tableR['net'] + 4*(spm_tableR['netDmg']/100) + 3*spm_tableR['damage_dealt']/100\n",
    "RR = RR -RR.mean()\n",
    "RRMUL = spmG_yhat.std()/RR.std()"
   ]
  },
  {
   "cell_type": "code",
   "execution_count": null,
   "metadata": {},
   "outputs": [],
   "source": [
    "col_targ = ['excellent','net','netDmg','damage_dealt']\n",
    "tmp3 = pd.DataFrame([spm_tableR[c] for c in col_targ]+[RR,spm_clf2.predict(Xs2[col_f]),spmG_yhat,game_tableY]).T\n",
    "tmp3.columns =col_targ + ['QLStats','sNet','sgNet','aNet']\n",
    "tmp3.corr().round(3)\n"
   ]
  },
  {
   "cell_type": "code",
   "execution_count": null,
   "metadata": {},
   "outputs": [],
   "source": [
    "tmp3['steam_id'] = spm_tableR['steam_id']\n",
    "finalMet = tmp3.groupby('steam_id').mean().sort_values('aNet',0,False)"
   ]
  },
  {
   "cell_type": "code",
   "execution_count": null,
   "metadata": {},
   "outputs": [],
   "source": [
    "finalMet['alias'] = finalMet.index.map(lambda x:player_names[x])\n",
    "finalMet['games'] = finalMet.index.map(lambda x: Sfs[player_ids[x]])\n",
    "finalMet.round(2).to_csv('tdm_total_metrics.tsv',index=False,sep='\\t')"
   ]
  },
  {
   "cell_type": "code",
   "execution_count": null,
   "metadata": {},
   "outputs": [],
   "source": [
    "plt.figure(figsize=(8,8))\n",
    "plt.scatter(game_tableY+np.random.randn(len(game_tableY)),spmG_yhat,s=5,alpha=0.05)\n",
    "plt.scatter(game_tableY+np.random.randn(len(game_tableY)),RRMUL*RR + spmG_yhat.mean(),s=5,alpha=0.05)\n",
    "\n",
    "plt.grid(True)\n",
    "plt.xlim(-15,25)\n",
    "plt.ylim(-15,25)\n",
    "plt.xlabel('adjusted net')\n",
    "plt.ylabel('predicted impact')\n",
    "plt.title('Results over {} scorelines\\nfrom {} players and {} TDM games'.format(len(game_tableY),spm_tableR.steam_id.unique().shape[0],spm_tableR.match_id.unique().shape[0]))\n",
    "print(len(game_tableY))"
   ]
  },
  {
   "cell_type": "code",
   "execution_count": null,
   "metadata": {},
   "outputs": [],
   "source": [
    "plt.figure(figsize=(8,4))\n",
    "plt.subplot(1,2,1)\n",
    "\n",
    "plt.plot([-50,50],[-50,50],c='k',ls='--')\n",
    "\n",
    "plt.scatter(coef,yH,s=10*np.log(Sfs),alpha=0.4,label='sNet')\n",
    "\n",
    "plt.grid(True)\n",
    "plt.xlim(-13,19)\n",
    "plt.ylim(-13,19)\n",
    "plt.xlabel('Regularized Adjusted Net')\n",
    "plt.ylabel('Statistical Net')\n",
    "plt.title('TDM Average Impact')\n",
    "\n",
    "plt.subplot(1,2,2)\n",
    "plt.plot([-50,50],[-50,50],c='k',ls='--')\n",
    "plt.scatter(game_tableY+np.random.randn(len(game_tableY)),1.3*spm_clfG.predict(Xs2),s=1,alpha=0.05,c=color_map[1])\n",
    "plt.xlim(-13,19)\n",
    "plt.ylim(-13,19)\n",
    "plt.xlabel('Regularized Adjusted Net')\n",
    "plt.ylabel('Statistical Game Net')\n",
    "plt.title('TDM Per-Game Impact')\n",
    "plt.grid(True)\n",
    "plt.tight_layout()\n",
    "#plt.savefig('../nicidob.github.io/images/qrapm_teaser.png',facecolor=(1,1,1),bbox_inches='tight')"
   ]
  },
  {
   "cell_type": "code",
   "execution_count": null,
   "metadata": {},
   "outputs": [],
   "source": [
    "dfr = pd.DataFrame([game_tableY,np.array(spm_clfG.predict(Xs2[col_f2])),game_tableX['net'],game_tableX['netDmg']]).T\n",
    "dfr.columns = ['aNet','sNet','net','netDmg']\n",
    "dfr.corr().round(3) # 0.747"
   ]
  },
  {
   "cell_type": "code",
   "execution_count": null,
   "metadata": {
    "scrolled": true
   },
   "outputs": [],
   "source": [
    "P = spm_clfG.predict(Xs2)\n",
    "tmp = spm_tableR.copy()\n",
    "tmp['GS'] = P\n",
    "tmp[tmp.steam_id == 76561198048532604].sort_values('GS',0,False)"
   ]
  },
  {
   "cell_type": "code",
   "execution_count": null,
   "metadata": {},
   "outputs": [],
   "source": [
    "tmp2 = (tmp.groupby('steam_id').mean()+2*tmp.groupby('steam_id').std()).sort_values('GS',0,False)\n",
    "[player_names[n] for n in tmp2.index]"
   ]
  },
  {
   "cell_type": "code",
   "execution_count": null,
   "metadata": {},
   "outputs": [],
   "source": [
    "player_names[76561198052511951]"
   ]
  },
  {
   "cell_type": "code",
   "execution_count": null,
   "metadata": {},
   "outputs": [],
   "source": [
    "import seaborn as sns\n",
    "import scipy.stats\n",
    "tmp  =spm_table.copy()\n",
    "tmp['adjusted net'] = coef\n",
    "tmp['games'] = Sfs\n",
    "tmp['QLStats Perf'] = 5*(tmp['net']) + 4*(tmp['netDmg'])/100 + 3*(tmp['damage_dealt']/100)\n",
    "\n",
    "tmp = tmp[tmp.games > 100]\n"
   ]
  },
  {
   "cell_type": "code",
   "execution_count": null,
   "metadata": {},
   "outputs": [],
   "source": [
    "plt.figure(figsize=(12,7))\n",
    "plt.style.use('fivethirtyeight')\n",
    "plt.style.use('seaborn-white')\n",
    "plt.style.use('fivethirtyeight')\n",
    "plt.style.use('seaborn-white')\n",
    "col_vals = np.argsort([  scipy.stats.pearsonr(tmp['adjusted net'], tmp[col])[0]**2 for col in df_medals.columns])[::-1]\n",
    "\n",
    "idx = 0\n",
    "for i in col_vals:\n",
    "    col = df_medals.columns[i]\n",
    "    #print(i,col)\n",
    "    \n",
    "    if col in ['quadgod','perforated','rampage']:\n",
    "        continue\n",
    "    \n",
    "    \n",
    "    plt.subplot(2,4,idx+1)\n",
    "    idx += 1\n",
    "\n",
    "    g = sns.regplot('adjusted net',col,tmp,scatter_kws={'color':color_map[4],'s':np.sqrt(tmp.games), 'alpha':0.5},line_kws={'color':'k','lw':1})\n",
    "    plt.grid(True)\n",
    "    plt.ylabel('')\n",
    "\n",
    "    r, p = scipy.stats.pearsonr(tmp['adjusted net'], tmp[col])\n",
    "    plt.title('{}\\nR={:.2f}'.format(col,r))\n",
    "\n",
    "plt.suptitle('TDM Medals',y=1.04,fontsize=24)\n",
    "plt.tight_layout()\n",
    "#plt.savefig('../nicidob.github.io/images/tdm_medals.png',facecolor=(1,1,1),bbox_inches='tight')"
   ]
  },
  {
   "cell_type": "code",
   "execution_count": null,
   "metadata": {},
   "outputs": [],
   "source": [
    "weap_lookup = {row[3]:row[2] for row in data['weapons'].itertuples()}\n",
    "\n"
   ]
  },
  {
   "cell_type": "code",
   "execution_count": null,
   "metadata": {},
   "outputs": [],
   "source": [
    "plt.figure(figsize=(6,12))\n",
    "plt.style.use('fivethirtyeight')\n",
    "plt.style.use('seaborn-white')\n",
    "plt.style.use('fivethirtyeight')\n",
    "plt.style.use('seaborn-white')\n",
    "\n",
    "col_fil = [_ for _ in df_weapons.columns if _ in tmp and 'frags' in _]\n",
    "col_vals = np.argsort([  scipy.stats.pearsonr(tmp['adjusted net'], tmp[col])[0]**2 for col in col_fil])[::-1]\n",
    "\n",
    "idx = 0\n",
    "for i in col_vals:\n",
    "    col = col_fil[i]\n",
    "    #print(i,col)\n",
    "    \n",
    "    #if col in ['gt_frags','rl_shots','pg_shots','gl_frags','sg_shots','gl_hits','gl_shots'] or col not in tmp.columns:\n",
    "    #    continue\n",
    "    \n",
    "    \n",
    "    plt.subplot(4,2,idx+1)\n",
    "    idx += 1\n",
    "\n",
    "    g = sns.regplot('adjusted net',col,tmp,scatter_kws={'color':color_map[0],'s':np.sqrt(tmp.games), 'alpha':0.5},line_kws={'color':'k','lw':1})\n",
    "    plt.grid(True)\n",
    "    plt.ylabel('')\n",
    "\n",
    "    r, p = scipy.stats.pearsonr(tmp['adjusted net'], tmp[col])\n",
    "    title = weap_lookup[col.split('_')[0]]\n",
    "    plt.title('{}\\nR={:.2f}'.format(title,r))\n",
    "\n",
    "plt.suptitle('TDM Weapon Frags',y=1.02,fontsize=24)\n",
    "plt.tight_layout()\n",
    "#plt.savefig('../nicidob.github.io/images/tdm_frags.png',facecolor=(1,1,1),bbox_inches='tight')"
   ]
  },
  {
   "cell_type": "code",
   "execution_count": null,
   "metadata": {},
   "outputs": [],
   "source": [
    "plt.figure(figsize=(6,12))\n",
    "plt.style.use('fivethirtyeight')\n",
    "plt.style.use('seaborn-white')\n",
    "plt.style.use('fivethirtyeight')\n",
    "plt.style.use('seaborn-white')\n",
    "\n",
    "col_fil = [_ for _ in df_weapons.columns if _ in tmp and 'shots' in _]\n",
    "col_vals = np.argsort([  scipy.stats.pearsonr(tmp['adjusted net'], tmp[col])[0]**2 for col in col_fil])[::-1]\n",
    "\n",
    "idx = 0\n",
    "for i in col_vals:\n",
    "    col = col_fil[i]\n",
    "    #print(i,col)\n",
    "    \n",
    "    #if col in ['gt_frags','rl_shots','pg_shots','gl_frags','sg_shots','gl_hits','gl_shots'] or col not in tmp.columns:\n",
    "    #    continue\n",
    "    \n",
    "    \n",
    "    plt.subplot(4,2,idx+1)\n",
    "    idx += 1\n",
    "\n",
    "    g = sns.regplot('adjusted net',col,tmp,scatter_kws={'color':color_map[1],'s':np.sqrt(tmp.games), 'alpha':0.5},line_kws={'color':'k','lw':1})\n",
    "    plt.grid(True)\n",
    "    plt.ylabel('')\n",
    "\n",
    "    r, p = scipy.stats.pearsonr(tmp['adjusted net'], tmp[col])\n",
    "    title = weap_lookup[col.split('_')[0]]\n",
    "    plt.title('{}\\nR={:.2f}'.format(title,r))\n",
    "\n",
    "plt.suptitle('TDM Weapon Shots',y=1.02,fontsize=24)\n",
    "plt.tight_layout()\n",
    "#plt.savefig('../nicidob.github.io/images/tdm_shots.png',facecolor=(1,1,1),bbox_inches='tight')"
   ]
  },
  {
   "cell_type": "code",
   "execution_count": null,
   "metadata": {},
   "outputs": [],
   "source": [
    "plt.figure(figsize=(6,12))\n",
    "plt.style.use('fivethirtyeight')\n",
    "plt.style.use('seaborn-white')\n",
    "plt.style.use('fivethirtyeight')\n",
    "plt.style.use('seaborn-white')\n",
    "\n",
    "col_fil = [_ for _ in df_weapons.columns if _ in tmp and 'hits' in _]\n",
    "col_vals = np.argsort([  scipy.stats.pearsonr(tmp['adjusted net'], tmp[col])[0]**2 for col in col_fil])[::-1]\n",
    "\n",
    "idx = 0\n",
    "for i in col_vals:\n",
    "    col = col_fil[i]\n",
    "    #print(i,col)\n",
    "    \n",
    "    #if col in ['gt_frags','rl_shots','pg_shots','gl_frags','sg_shots','gl_hits','gl_shots'] or col not in tmp.columns:\n",
    "    #    continue\n",
    "    \n",
    "    \n",
    "    plt.subplot(4,2,idx+1)\n",
    "    idx += 1\n",
    "\n",
    "    g = sns.regplot('adjusted net',col,tmp,scatter_kws={'color':color_map[2],'s':np.sqrt(tmp.games), 'alpha':0.5},line_kws={'color':'k','lw':1})\n",
    "    plt.grid(True)\n",
    "    plt.ylabel('')\n",
    "\n",
    "    r, p = scipy.stats.pearsonr(tmp['adjusted net'], tmp[col])\n",
    "    title = weap_lookup[col.split('_')[0]]\n",
    "    plt.title('{}\\nR={:.2f}'.format(title,r))\n",
    "\n",
    "plt.suptitle('TDM Weapon Hits',y=1.02,fontsize=24)\n",
    "plt.tight_layout()\n",
    "#plt.savefig('../nicidob.github.io/images/tdm_hits.png',facecolor=(1,1,1),bbox_inches='tight')"
   ]
  },
  {
   "cell_type": "code",
   "execution_count": null,
   "metadata": {},
   "outputs": [],
   "source": [
    "\n",
    "plt.figure(figsize=(6,12))\n",
    "\n",
    "\n",
    "col_fil = [_ for _ in df_weapons.columns if _ in tmp and 'hits' in _]\n",
    "\n",
    "for col in col_fil:\n",
    "    c = col.split('_')[0]\n",
    "    tmp[c+'_acc'] = tmp[c+'_hits']/(tmp[c+'_shots'] + 0.0001)\n",
    "col_fil = [_ for _ in tmp.columns if _ in tmp and 'acc' in _]\n",
    "\n",
    "col_vals = np.argsort([  scipy.stats.pearsonr(tmp['adjusted net'], tmp[col])[0]**2 for col in col_fil])[::-1]\n",
    "\n",
    "\n",
    "idx = 0\n",
    "for i in col_vals:\n",
    "    col = col_fil[i]\n",
    "    #print(i,col)\n",
    "    \n",
    "    #if col in ['gt_frags','rl_shots','pg_shots','gl_frags','sg_shots','gl_hits','gl_shots'] or col not in tmp.columns:\n",
    "    #    continue\n",
    "    \n",
    "    \n",
    "    plt.subplot(4,2,idx+1)\n",
    "    idx += 1\n",
    "\n",
    "    g = sns.regplot('adjusted net',col,tmp,scatter_kws={'color':color_map[3],'s':np.sqrt(tmp.games), 'alpha':0.5},line_kws={'color':'k','lw':1})\n",
    "    plt.grid(True)\n",
    "    plt.ylabel('')\n",
    "\n",
    "    r, p = scipy.stats.pearsonr(tmp['adjusted net'], tmp[col])\n",
    "    title = weap_lookup[col.split('_')[0]]\n",
    "    plt.title('{}\\nR={:.2f}'.format(title,r))\n",
    "\n",
    "plt.suptitle('TDM Weapon Accuracy',y=1.02,fontsize=24)\n",
    "plt.tight_layout()\n",
    "#plt.savefig('../nicidob.github.io/images/tdm_acc.png',facecolor=(1,1,1),bbox_inches='tight')"
   ]
  },
  {
   "cell_type": "code",
   "execution_count": null,
   "metadata": {},
   "outputs": [],
   "source": [
    "df_score"
   ]
  },
  {
   "cell_type": "code",
   "execution_count": null,
   "metadata": {},
   "outputs": [],
   "source": [
    "tmp.columns"
   ]
  },
  {
   "cell_type": "code",
   "execution_count": null,
   "metadata": {},
   "outputs": [],
   "source": [
    "mMean/2,tmp_s.shape,tmp.shape"
   ]
  },
  {
   "cell_type": "code",
   "execution_count": null,
   "metadata": {},
   "outputs": [],
   "source": [
    "plt.figure(figsize=(12,7))\n",
    "tmp_s = df_score.drop(['alive_time'],1)\n",
    "tmp_s['QLStats Perf'] = 5*(tmp_s['net']) + 4*(tmp_s['netDmg'])/100 + 3*(tmp_s['damage_dealt']/100)\n",
    "\n",
    "col_vals = np.argsort([  scipy.stats.pearsonr(tmp['adjusted net'], tmp[col])[0]**2 for col in list(tmp_s.columns)])[::-1]\n",
    "print(col_vals)\n",
    "idx = 0\n",
    "for i in col_vals:\n",
    "    col = tmp_s.columns[i]\n",
    "    \n",
    "    #print(i,col)\n",
    "    \n",
    "    if col in ['alive_time']:\n",
    "        continue\n",
    "    \n",
    "    \n",
    "    plt.subplot(2,4,idx+1)\n",
    "    idx += 1\n",
    "\n",
    "    g = sns.regplot('adjusted net',col,tmp,scatter_kws={\"color\":color_map[5],'s':np.sqrt(tmp.games), 'alpha':0.5},line_kws={'color':'k','lw':1})\n",
    "    plt.grid(True)\n",
    "    plt.ylabel('')\n",
    "\n",
    "    r, p = scipy.stats.pearsonr(tmp['adjusted net'], tmp[col])\n",
    "    plt.title('{}\\nR={:.3f}'.format(col,r))\n",
    "\n",
    "plt.suptitle('TDM Scoreboard Stats',y=1.04,fontsize=24)\n",
    "\n",
    "plt.tight_layout()\n",
    "#plt.savefig('../nicidob.github.io/images/tdm_score.png',facecolor=(1,1,1),bbox_inches='tight')"
   ]
  },
  {
   "cell_type": "code",
   "execution_count": null,
   "metadata": {},
   "outputs": [],
   "source": [
    "print('  alias   \\taNet\\tsNet\\ttmatches')\n",
    "for i,c in enumerate(np.argsort(clf.coef_)[::-1]):\n",
    "    print('{},{:10s}\\t{:.1f}\\t{:.1f}\\t{:.0f}'.format(i+1,player_names[vPlayers[c]][:10],clf.coef_[c]*mMean ,yH[c]*mMean,Sfs[c]))#,vPlayers[c]))\n",
    "    "
   ]
  },
  {
   "cell_type": "code",
   "execution_count": null,
   "metadata": {},
   "outputs": [],
   "source": [
    "[k for k,v in player_names.items() if '2Latromm' in v]"
   ]
  },
  {
   "cell_type": "code",
   "execution_count": null,
   "metadata": {},
   "outputs": [],
   "source": [
    "spm_table.loc[[76561198122384360,76561198002515349],:]"
   ]
  },
  {
   "cell_type": "code",
   "execution_count": null,
   "metadata": {},
   "outputs": [],
   "source": [
    "1490.008286/1386.782883"
   ]
  },
  {
   "cell_type": "code",
   "execution_count": null,
   "metadata": {},
   "outputs": [],
   "source": []
  },
  {
   "cell_type": "code",
   "execution_count": null,
   "metadata": {},
   "outputs": [],
   "source": []
  },
  {
   "cell_type": "code",
   "execution_count": null,
   "metadata": {},
   "outputs": [],
   "source": []
  },
  {
   "cell_type": "code",
   "execution_count": null,
   "metadata": {},
   "outputs": [],
   "source": []
  },
  {
   "cell_type": "code",
   "execution_count": null,
   "metadata": {},
   "outputs": [],
   "source": []
  },
  {
   "cell_type": "code",
   "execution_count": null,
   "metadata": {},
   "outputs": [],
   "source": []
  },
  {
   "cell_type": "code",
   "execution_count": null,
   "metadata": {},
   "outputs": [],
   "source": []
  }
 ],
 "metadata": {
  "kernelspec": {
   "display_name": "Python 3",
   "language": "python",
   "name": "python3"
  },
  "language_info": {
   "codemirror_mode": {
    "name": "ipython",
    "version": 3
   },
   "file_extension": ".py",
   "mimetype": "text/x-python",
   "name": "python",
   "nbconvert_exporter": "python",
   "pygments_lexer": "ipython3",
   "version": "3.7.3"
  }
 },
 "nbformat": 4,
 "nbformat_minor": 2
}
